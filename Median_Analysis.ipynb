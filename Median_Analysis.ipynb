{
 "cells": [
  {
   "cell_type": "markdown",
   "id": "vulnerable-ethnic",
   "metadata": {},
   "source": [
    "# Approximate median performance"
   ]
  },
  {
   "cell_type": "code",
   "execution_count": null,
   "id": "literary-belief",
   "metadata": {},
   "outputs": [],
   "source": [
    "import numpy as np\n",
    "import copy\n",
    "import matplotlib.pyplot as plt"
   ]
  },
  {
   "cell_type": "markdown",
   "id": "unique-dining",
   "metadata": {},
   "source": [
    "### Approximate median algorithm"
   ]
  },
  {
   "cell_type": "code",
   "execution_count": null,
   "id": "flush-catholic",
   "metadata": {},
   "outputs": [],
   "source": [
    "def MedOfMed(x, m):\n",
    "    n = len(x)\n",
    "    med_array = []\n",
    "    for i in range(n//m):\n",
    "        med_array.append(np.median(x[m*i:m*i+m]))\n",
    "    if n % m != 0:\n",
    "        med_array.append(np.median(x[m*(n//m):n]))\n",
    "    if len(med_array) >= m:\n",
    "        new_array = copy.deepcopy(med_array)\n",
    "        return MedOfMed(new_array,m)\n",
    "    else:\n",
    "        return np.median(med_array)"
   ]
  },
  {
   "cell_type": "markdown",
   "id": "capable-discharge",
   "metadata": {},
   "source": [
    "### Experiments"
   ]
  },
  {
   "cell_type": "code",
   "execution_count": null,
   "id": "utility-richardson",
   "metadata": {},
   "outputs": [],
   "source": [
    "epoch = 2000 # number of random permutations"
   ]
  },
  {
   "cell_type": "code",
   "execution_count": null,
   "id": "collectible-snake",
   "metadata": {},
   "outputs": [],
   "source": [
    "def rel_error(array, true): # relative error\n",
    "    n = len(array)\n",
    "    result = 0\n",
    "    for i in range(n):\n",
    "        result += abs(array[i] - true)/true/n\n",
    "    return round(result,4)"
   ]
  },
  {
   "cell_type": "code",
   "execution_count": null,
   "id": "painful-relations",
   "metadata": {},
   "outputs": [],
   "source": [
    "def compare357(n): # approximate median selections of chunk size 3, 5, 7\n",
    "    med_result3 = []\n",
    "    med_result5 = []\n",
    "    med_result7 = []\n",
    "    for i in range(epoch):\n",
    "        ary = np.random.permutation(n)\n",
    "        x = MedOfMed(ary, 3)\n",
    "        y = MedOfMed(ary, 5)\n",
    "        z = MedOfMed(ary, 7)\n",
    "        med_result3.append(x)\n",
    "        med_result5.append(y)\n",
    "        med_result7.append(z)\n",
    "    return med_result3, med_result5, med_result7"
   ]
  },
  {
   "cell_type": "code",
   "execution_count": null,
   "id": "provincial-volleyball",
   "metadata": {},
   "outputs": [],
   "source": [
    "for i in [10, 10**2, 10**3, 10**4]: # experiment of the paper\n",
    "    med_result3, med_result5, med_result7 = compare357(i)\n",
    "    \n",
    "    plt.figure(figsize = (15,5))\n",
    "    \n",
    "    plt.subplot(1,3,1)\n",
    "    plt.hist(med_result3, bins = i, range = [0, i])\n",
    "    error = rel_error(med_result3, i/2)\n",
    "    plt.title('n={}, m=3, error={}'.format(i,error))\n",
    "\n",
    "    plt.subplot(1,3,2)\n",
    "    plt.hist(med_result3, bins = i, range = [0, i])\n",
    "    error = rel_error(med_result5, i/2)\n",
    "    plt.title('n={}, m=5, error={}'.format(i,error))\n",
    "\n",
    "    plt.subplot(1,3,3)\n",
    "    plt.hist(med_result3, bins = i, range = [0, i])\n",
    "    error = rel_error(med_result7, i/2)\n",
    "    plt.title('n={}, m=7, error={}'.format(i,error))\n",
    "\n",
    "    plt.show()"
   ]
  }
 ],
 "metadata": {
  "kernelspec": {
   "display_name": "Python 3",
   "language": "python",
   "name": "python3"
  },
  "language_info": {
   "codemirror_mode": {
    "name": "ipython",
    "version": 3
   },
   "file_extension": ".py",
   "mimetype": "text/x-python",
   "name": "python",
   "nbconvert_exporter": "python",
   "pygments_lexer": "ipython3",
   "version": "3.7.4"
  }
 },
 "nbformat": 4,
 "nbformat_minor": 5
}
